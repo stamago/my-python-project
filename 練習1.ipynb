{
 "cells": [
  {
   "cell_type": "code",
   "execution_count": 2,
   "id": "7fabf273-bdbe-43f6-81d3-9346c89990a5",
   "metadata": {},
   "outputs": [
    {
     "data": {
      "text/html": [
       "<div>\n",
       "<style scoped>\n",
       "    .dataframe tbody tr th:only-of-type {\n",
       "        vertical-align: middle;\n",
       "    }\n",
       "\n",
       "    .dataframe tbody tr th {\n",
       "        vertical-align: top;\n",
       "    }\n",
       "\n",
       "    .dataframe thead th {\n",
       "        text-align: right;\n",
       "    }\n",
       "</style>\n",
       "<table border=\"1\" class=\"dataframe\">\n",
       "  <thead>\n",
       "    <tr style=\"text-align: right;\">\n",
       "      <th></th>\n",
       "      <th>PassengerId</th>\n",
       "      <th>Survived</th>\n",
       "      <th>Pclass</th>\n",
       "      <th>Name</th>\n",
       "      <th>Sex</th>\n",
       "      <th>Age</th>\n",
       "      <th>SibSp</th>\n",
       "      <th>Parch</th>\n",
       "      <th>Ticket</th>\n",
       "      <th>Fare</th>\n",
       "      <th>Cabin</th>\n",
       "      <th>Embarked</th>\n",
       "    </tr>\n",
       "  </thead>\n",
       "  <tbody>\n",
       "    <tr>\n",
       "      <th>0</th>\n",
       "      <td>1</td>\n",
       "      <td>0</td>\n",
       "      <td>3</td>\n",
       "      <td>Braund, Mr. Owen Harris</td>\n",
       "      <td>male</td>\n",
       "      <td>22.0</td>\n",
       "      <td>1</td>\n",
       "      <td>0</td>\n",
       "      <td>A/5 21171</td>\n",
       "      <td>7.2500</td>\n",
       "      <td>NaN</td>\n",
       "      <td>S</td>\n",
       "    </tr>\n",
       "    <tr>\n",
       "      <th>1</th>\n",
       "      <td>2</td>\n",
       "      <td>1</td>\n",
       "      <td>1</td>\n",
       "      <td>Cumings, Mrs. John Bradley (Florence Briggs Th...</td>\n",
       "      <td>female</td>\n",
       "      <td>38.0</td>\n",
       "      <td>1</td>\n",
       "      <td>0</td>\n",
       "      <td>PC 17599</td>\n",
       "      <td>71.2833</td>\n",
       "      <td>C85</td>\n",
       "      <td>C</td>\n",
       "    </tr>\n",
       "    <tr>\n",
       "      <th>2</th>\n",
       "      <td>3</td>\n",
       "      <td>1</td>\n",
       "      <td>3</td>\n",
       "      <td>Heikkinen, Miss. Laina</td>\n",
       "      <td>female</td>\n",
       "      <td>26.0</td>\n",
       "      <td>0</td>\n",
       "      <td>0</td>\n",
       "      <td>STON/O2. 3101282</td>\n",
       "      <td>7.9250</td>\n",
       "      <td>NaN</td>\n",
       "      <td>S</td>\n",
       "    </tr>\n",
       "    <tr>\n",
       "      <th>3</th>\n",
       "      <td>4</td>\n",
       "      <td>1</td>\n",
       "      <td>1</td>\n",
       "      <td>Futrelle, Mrs. Jacques Heath (Lily May Peel)</td>\n",
       "      <td>female</td>\n",
       "      <td>35.0</td>\n",
       "      <td>1</td>\n",
       "      <td>0</td>\n",
       "      <td>113803</td>\n",
       "      <td>53.1000</td>\n",
       "      <td>C123</td>\n",
       "      <td>S</td>\n",
       "    </tr>\n",
       "    <tr>\n",
       "      <th>4</th>\n",
       "      <td>5</td>\n",
       "      <td>0</td>\n",
       "      <td>3</td>\n",
       "      <td>Allen, Mr. William Henry</td>\n",
       "      <td>male</td>\n",
       "      <td>35.0</td>\n",
       "      <td>0</td>\n",
       "      <td>0</td>\n",
       "      <td>373450</td>\n",
       "      <td>8.0500</td>\n",
       "      <td>NaN</td>\n",
       "      <td>S</td>\n",
       "    </tr>\n",
       "  </tbody>\n",
       "</table>\n",
       "</div>"
      ],
      "text/plain": [
       "   PassengerId  Survived  Pclass  \\\n",
       "0            1         0       3   \n",
       "1            2         1       1   \n",
       "2            3         1       3   \n",
       "3            4         1       1   \n",
       "4            5         0       3   \n",
       "\n",
       "                                                Name     Sex   Age  SibSp  \\\n",
       "0                            Braund, Mr. Owen Harris    male  22.0      1   \n",
       "1  Cumings, Mrs. John Bradley (Florence Briggs Th...  female  38.0      1   \n",
       "2                             Heikkinen, Miss. Laina  female  26.0      0   \n",
       "3       Futrelle, Mrs. Jacques Heath (Lily May Peel)  female  35.0      1   \n",
       "4                           Allen, Mr. William Henry    male  35.0      0   \n",
       "\n",
       "   Parch            Ticket     Fare Cabin Embarked  \n",
       "0      0         A/5 21171   7.2500   NaN        S  \n",
       "1      0          PC 17599  71.2833   C85        C  \n",
       "2      0  STON/O2. 3101282   7.9250   NaN        S  \n",
       "3      0            113803  53.1000  C123        S  \n",
       "4      0            373450   8.0500   NaN        S  "
      ]
     },
     "execution_count": 2,
     "metadata": {},
     "output_type": "execute_result"
    }
   ],
   "source": [
    "import pandas as pd\n",
    "\n",
    "train_data = pd.read_csv(\"train.csv\")\n",
    "train_data.head()"
   ]
  },
  {
   "cell_type": "code",
   "execution_count": 3,
   "id": "071d9a2b-1f96-4533-bbb9-69d3c9479974",
   "metadata": {},
   "outputs": [
    {
     "data": {
      "text/html": [
       "<div>\n",
       "<style scoped>\n",
       "    .dataframe tbody tr th:only-of-type {\n",
       "        vertical-align: middle;\n",
       "    }\n",
       "\n",
       "    .dataframe tbody tr th {\n",
       "        vertical-align: top;\n",
       "    }\n",
       "\n",
       "    .dataframe thead th {\n",
       "        text-align: right;\n",
       "    }\n",
       "</style>\n",
       "<table border=\"1\" class=\"dataframe\">\n",
       "  <thead>\n",
       "    <tr style=\"text-align: right;\">\n",
       "      <th></th>\n",
       "      <th>PassengerId</th>\n",
       "      <th>Pclass</th>\n",
       "      <th>Name</th>\n",
       "      <th>Sex</th>\n",
       "      <th>Age</th>\n",
       "      <th>SibSp</th>\n",
       "      <th>Parch</th>\n",
       "      <th>Ticket</th>\n",
       "      <th>Fare</th>\n",
       "      <th>Cabin</th>\n",
       "      <th>Embarked</th>\n",
       "    </tr>\n",
       "  </thead>\n",
       "  <tbody>\n",
       "    <tr>\n",
       "      <th>0</th>\n",
       "      <td>892</td>\n",
       "      <td>3</td>\n",
       "      <td>Kelly, Mr. James</td>\n",
       "      <td>male</td>\n",
       "      <td>34.5</td>\n",
       "      <td>0</td>\n",
       "      <td>0</td>\n",
       "      <td>330911</td>\n",
       "      <td>7.8292</td>\n",
       "      <td>NaN</td>\n",
       "      <td>Q</td>\n",
       "    </tr>\n",
       "    <tr>\n",
       "      <th>1</th>\n",
       "      <td>893</td>\n",
       "      <td>3</td>\n",
       "      <td>Wilkes, Mrs. James (Ellen Needs)</td>\n",
       "      <td>female</td>\n",
       "      <td>47.0</td>\n",
       "      <td>1</td>\n",
       "      <td>0</td>\n",
       "      <td>363272</td>\n",
       "      <td>7.0000</td>\n",
       "      <td>NaN</td>\n",
       "      <td>S</td>\n",
       "    </tr>\n",
       "    <tr>\n",
       "      <th>2</th>\n",
       "      <td>894</td>\n",
       "      <td>2</td>\n",
       "      <td>Myles, Mr. Thomas Francis</td>\n",
       "      <td>male</td>\n",
       "      <td>62.0</td>\n",
       "      <td>0</td>\n",
       "      <td>0</td>\n",
       "      <td>240276</td>\n",
       "      <td>9.6875</td>\n",
       "      <td>NaN</td>\n",
       "      <td>Q</td>\n",
       "    </tr>\n",
       "    <tr>\n",
       "      <th>3</th>\n",
       "      <td>895</td>\n",
       "      <td>3</td>\n",
       "      <td>Wirz, Mr. Albert</td>\n",
       "      <td>male</td>\n",
       "      <td>27.0</td>\n",
       "      <td>0</td>\n",
       "      <td>0</td>\n",
       "      <td>315154</td>\n",
       "      <td>8.6625</td>\n",
       "      <td>NaN</td>\n",
       "      <td>S</td>\n",
       "    </tr>\n",
       "    <tr>\n",
       "      <th>4</th>\n",
       "      <td>896</td>\n",
       "      <td>3</td>\n",
       "      <td>Hirvonen, Mrs. Alexander (Helga E Lindqvist)</td>\n",
       "      <td>female</td>\n",
       "      <td>22.0</td>\n",
       "      <td>1</td>\n",
       "      <td>1</td>\n",
       "      <td>3101298</td>\n",
       "      <td>12.2875</td>\n",
       "      <td>NaN</td>\n",
       "      <td>S</td>\n",
       "    </tr>\n",
       "  </tbody>\n",
       "</table>\n",
       "</div>"
      ],
      "text/plain": [
       "   PassengerId  Pclass                                          Name     Sex  \\\n",
       "0          892       3                              Kelly, Mr. James    male   \n",
       "1          893       3              Wilkes, Mrs. James (Ellen Needs)  female   \n",
       "2          894       2                     Myles, Mr. Thomas Francis    male   \n",
       "3          895       3                              Wirz, Mr. Albert    male   \n",
       "4          896       3  Hirvonen, Mrs. Alexander (Helga E Lindqvist)  female   \n",
       "\n",
       "    Age  SibSp  Parch   Ticket     Fare Cabin Embarked  \n",
       "0  34.5      0      0   330911   7.8292   NaN        Q  \n",
       "1  47.0      1      0   363272   7.0000   NaN        S  \n",
       "2  62.0      0      0   240276   9.6875   NaN        Q  \n",
       "3  27.0      0      0   315154   8.6625   NaN        S  \n",
       "4  22.0      1      1  3101298  12.2875   NaN        S  "
      ]
     },
     "execution_count": 3,
     "metadata": {},
     "output_type": "execute_result"
    }
   ],
   "source": [
    "test_data = pd.read_csv(\"test.csv\")\n",
    "test_data.head()"
   ]
  },
  {
   "cell_type": "code",
   "execution_count": 4,
   "id": "4746f177-d8b5-4472-a69c-fe6cabaa12c4",
   "metadata": {},
   "outputs": [
    {
     "name": "stdout",
     "output_type": "stream",
     "text": [
      "% of women who survived: 0.7420382165605095\n"
     ]
    }
   ],
   "source": [
    "women = train_data.loc[train_data.Sex == 'female'][\"Survived\"]\n",
    "rate_women = sum(women)/len(women)\n",
    "\n",
    "print(\"% of women who survived:\", rate_women)"
   ]
  },
  {
   "cell_type": "code",
   "execution_count": 5,
   "id": "36bbb4ff-d93e-4c1e-9d16-8abe94ce214c",
   "metadata": {},
   "outputs": [
    {
     "name": "stdout",
     "output_type": "stream",
     "text": [
      "% of men who survived: 0.18890814558058924\n"
     ]
    }
   ],
   "source": [
    "men = train_data.loc[train_data.Sex == 'male'][\"Survived\"]\n",
    "rate_men = sum(men)/len(men)\n",
    "\n",
    "print(\"% of men who survived:\", rate_men)"
   ]
  },
  {
   "cell_type": "code",
   "execution_count": 6,
   "id": "20e26ac3-a76d-4e23-b96c-be664a5c8d9a",
   "metadata": {},
   "outputs": [
    {
     "name": "stdout",
     "output_type": "stream",
     "text": [
      "Your submission was successfully saved!\n"
     ]
    }
   ],
   "source": [
    "from sklearn.ensemble import RandomForestClassifier\n",
    "\n",
    "y = train_data[\"Survived\"]\n",
    "\n",
    "features = [\"Pclass\", \"Sex\", \"SibSp\", \"Parch\"]\n",
    "X = pd.get_dummies(train_data[features])\n",
    "X_test = pd.get_dummies(test_data[features])\n",
    "\n",
    "model = RandomForestClassifier(n_estimators=100, max_depth=5, random_state=1)\n",
    "model.fit(X, y)\n",
    "predictions = model.predict(X_test)\n",
    "\n",
    "output = pd.DataFrame({'PassengerId': test_data.PassengerId, 'Survived': predictions})\n",
    "output.to_csv('submission.csv', index=False)\n",
    "print(\"Your submission was successfully saved!\")"
   ]
  },
  {
   "cell_type": "code",
   "execution_count": 7,
   "id": "2f05f348-7fea-481d-b1a6-15334bf36d5d",
   "metadata": {},
   "outputs": [
    {
     "data": {
      "text/html": [
       "<div>\n",
       "<style scoped>\n",
       "    .dataframe tbody tr th:only-of-type {\n",
       "        vertical-align: middle;\n",
       "    }\n",
       "\n",
       "    .dataframe tbody tr th {\n",
       "        vertical-align: top;\n",
       "    }\n",
       "\n",
       "    .dataframe thead th {\n",
       "        text-align: right;\n",
       "    }\n",
       "</style>\n",
       "<table border=\"1\" class=\"dataframe\">\n",
       "  <thead>\n",
       "    <tr style=\"text-align: right;\">\n",
       "      <th></th>\n",
       "      <th>PassengerId</th>\n",
       "      <th>Survived</th>\n",
       "    </tr>\n",
       "  </thead>\n",
       "  <tbody>\n",
       "    <tr>\n",
       "      <th>0</th>\n",
       "      <td>892</td>\n",
       "      <td>0</td>\n",
       "    </tr>\n",
       "    <tr>\n",
       "      <th>1</th>\n",
       "      <td>893</td>\n",
       "      <td>1</td>\n",
       "    </tr>\n",
       "    <tr>\n",
       "      <th>2</th>\n",
       "      <td>894</td>\n",
       "      <td>0</td>\n",
       "    </tr>\n",
       "    <tr>\n",
       "      <th>3</th>\n",
       "      <td>895</td>\n",
       "      <td>0</td>\n",
       "    </tr>\n",
       "    <tr>\n",
       "      <th>4</th>\n",
       "      <td>896</td>\n",
       "      <td>1</td>\n",
       "    </tr>\n",
       "    <tr>\n",
       "      <th>...</th>\n",
       "      <td>...</td>\n",
       "      <td>...</td>\n",
       "    </tr>\n",
       "    <tr>\n",
       "      <th>413</th>\n",
       "      <td>1305</td>\n",
       "      <td>0</td>\n",
       "    </tr>\n",
       "    <tr>\n",
       "      <th>414</th>\n",
       "      <td>1306</td>\n",
       "      <td>1</td>\n",
       "    </tr>\n",
       "    <tr>\n",
       "      <th>415</th>\n",
       "      <td>1307</td>\n",
       "      <td>0</td>\n",
       "    </tr>\n",
       "    <tr>\n",
       "      <th>416</th>\n",
       "      <td>1308</td>\n",
       "      <td>0</td>\n",
       "    </tr>\n",
       "    <tr>\n",
       "      <th>417</th>\n",
       "      <td>1309</td>\n",
       "      <td>0</td>\n",
       "    </tr>\n",
       "  </tbody>\n",
       "</table>\n",
       "<p>418 rows × 2 columns</p>\n",
       "</div>"
      ],
      "text/plain": [
       "     PassengerId  Survived\n",
       "0            892         0\n",
       "1            893         1\n",
       "2            894         0\n",
       "3            895         0\n",
       "4            896         1\n",
       "..           ...       ...\n",
       "413         1305         0\n",
       "414         1306         1\n",
       "415         1307         0\n",
       "416         1308         0\n",
       "417         1309         0\n",
       "\n",
       "[418 rows x 2 columns]"
      ]
     },
     "execution_count": 7,
     "metadata": {},
     "output_type": "execute_result"
    }
   ],
   "source": [
    "output"
   ]
  },
  {
   "cell_type": "code",
   "execution_count": 8,
   "id": "41c03623-fefa-4433-a8b2-5004d56331c0",
   "metadata": {},
   "outputs": [
    {
     "name": "stdout",
     "output_type": "stream",
     "text": [
      "Validation Accuracy: 0.7597765363128491\n"
     ]
    }
   ],
   "source": [
    "from sklearn.metrics import accuracy_score\n",
    "from sklearn.model_selection import train_test_split\n",
    "\n",
    "# 学習用と検証用に分ける（8:2）\n",
    "X_train, X_val, y_train, y_val = train_test_split(X, y, test_size=0.2, random_state=1)\n",
    "\n",
    "# モデル学習（学習用）\n",
    "model = RandomForestClassifier(n_estimators=100, max_depth=5, random_state=1)\n",
    "model.fit(X_train, y_train)\n",
    "\n",
    "# 検証データで予測\n",
    "val_predictions = model.predict(X_val)\n",
    "\n",
    "# 精度を確認\n",
    "acc = accuracy_score(y_val, val_predictions)\n",
    "print(\"Validation Accuracy:\", acc)\n"
   ]
  },
  {
   "cell_type": "markdown",
   "id": "3f43105a-b28e-4a84-b2d9-c49563c4e1b6",
   "metadata": {},
   "source": [
    "モデルは「どの特徴量が重要だったか」を出力できます。"
   ]
  },
  {
   "cell_type": "code",
   "execution_count": 9,
   "id": "1d6690ff-c9da-47bb-aa7e-79bc197d3ad4",
   "metadata": {},
   "outputs": [
    {
     "data": {
      "image/png": "[encoded data removed]",
      "text/plain": [
       "<Figure size 800x500 with 1 Axes>"
      ]
     },
     "metadata": {},
     "output_type": "display_data"
    }
   ],
   "source": [
    "import matplotlib.pyplot as plt\n",
    "\n",
    "feature_importance = model.feature_importances_\n",
    "features_list = X.columns\n",
    "\n",
    "plt.figure(figsize=(8, 5))\n",
    "plt.barh(features_list, feature_importance)\n",
    "plt.xlabel(\"Feature Importance\")\n",
    "plt.title(\"Which Features are Important?\")\n",
    "plt.show()"
   ]
  },
  {
   "cell_type": "markdown",
   "id": "1fd00594-4a09-485a-89b5-7f4c7d777ed6",
   "metadata": {},
   "source": [
    "もっと予測精度を上げるには「新しい特徴量を作る（特徴量エンジニアリング）」がカギになります。"
   ]
  },
  {
   "cell_type": "code",
   "execution_count": 10,
   "id": "e4f04896-69b6-4a6c-86f1-b8801ee3afa4",
   "metadata": {},
   "outputs": [],
   "source": [
    "train_data[\"Age_bin\"] = pd.cut(train_data[\"Age\"], bins=[0, 12, 18, 35, 60, 80], labels=False)\n",
    "train_data[\"Fare_bin\"] = pd.qcut(train_data[\"Fare\"], 4, labels=False)\n",
    "\n",
    "test_data[\"Age_bin\"] = pd.cut(test_data[\"Age\"], bins=[0, 12, 18, 35, 60, 80], labels=False)\n",
    "test_data[\"Fare_bin\"] = pd.qcut(test_data[\"Fare\"], 4, labels=False)\n",
    "\n",
    "features = [\"Pclass\", \"Sex\", \"SibSp\", \"Parch\", \"Age_bin\", \"Fare_bin\"]\n",
    "X = pd.get_dummies(train_data[features])\n",
    "X_test = pd.get_dummies(test_data[features])\n",
    "X, X_test = X.align(X_test, join='left', axis=1, fill_value=0)"
   ]
  },
  {
   "cell_type": "markdown",
   "id": "ba68b9da-510d-4382-accd-74839851750f",
   "metadata": {},
   "source": [
    "max_depth=5やn_estimators=100をいろいろ変えて、どのパターンが最も精度が良いか試してみましょう。"
   ]
  },
  {
   "cell_type": "code",
   "execution_count": 11,
   "id": "d74d9d63-7992-4237-9487-343880ad24ee",
   "metadata": {},
   "outputs": [
    {
     "name": "stdout",
     "output_type": "stream",
     "text": [
      "max_depth=3 → Accuracy: 0.7821\n",
      "max_depth=5 → Accuracy: 0.7598\n",
      "max_depth=7 → Accuracy: 0.7654\n",
      "max_depth=9 → Accuracy: 0.7542\n"
     ]
    }
   ],
   "source": [
    "for depth in [3, 5, 7, 9]:\n",
    "    model = RandomForestClassifier(n_estimators=100, max_depth=depth, random_state=1)\n",
    "    model.fit(X_train, y_train)\n",
    "    preds = model.predict(X_val)\n",
    "    acc = accuracy_score(y_val, preds)\n",
    "    print(f\"max_depth={depth} → Accuracy: {acc:.4f}\")"
   ]
  },
  {
   "cell_type": "markdown",
   "id": "220cfefa-fcbc-4162-8361-d91abfad7b44",
   "metadata": {},
   "source": [
    "クロスバリデーションで安定評価"
   ]
  },
  {
   "cell_type": "code",
   "execution_count": 12,
   "id": "85cc5787-6f54-4795-91ba-96f06e3d126a",
   "metadata": {},
   "outputs": [
    {
     "name": "stdout",
     "output_type": "stream",
     "text": [
      "Cross-validation scores: [0.82681564 0.82022472 0.83146067 0.79213483 0.85393258]\n",
      "Average CV accuracy: 0.824913690289373\n"
     ]
    }
   ],
   "source": [
    "from sklearn.model_selection import cross_val_score\n",
    "\n",
    "model = RandomForestClassifier(n_estimators=100, max_depth=5, random_state=1)\n",
    "scores = cross_val_score(model, X, y, cv=5)\n",
    "\n",
    "print(\"Cross-validation scores:\", scores)\n",
    "print(\"Average CV accuracy:\", scores.mean())"
   ]
  },
  {
   "cell_type": "markdown",
   "id": "4db63e76-99bc-4af8-8a11-3a5f27c084b9",
   "metadata": {},
   "source": [
    "ランダムフォレストだけでなく、シンプルなロジスティック回帰とも比較するとモデル選定の幅が広がります。"
   ]
  },
  {
   "cell_type": "code",
   "execution_count": 13,
   "id": "d87fefd5-6918-440f-8fb7-00d4de2b7de1",
   "metadata": {},
   "outputs": [
    {
     "name": "stdout",
     "output_type": "stream",
     "text": [
      "Logistic Regression Accuracy: 0.7821229050279329\n"
     ]
    }
   ],
   "source": [
    "from sklearn.linear_model import LogisticRegression\n",
    "from sklearn.metrics import accuracy_score\n",
    "\n",
    "# モデル構築・学習\n",
    "logreg_model = LogisticRegression(max_iter=1000)\n",
    "logreg_model.fit(X_train, y_train)\n",
    "\n",
    "# 評価\n",
    "val_preds = logreg_model.predict(X_val)\n",
    "acc = accuracy_score(y_val, val_preds)\n",
    "\n",
    "print(\"Logistic Regression Accuracy:\", acc)"
   ]
  },
  {
   "cell_type": "markdown",
   "id": "c5f7b43c-10d8-424c-9d16-0f67342cb1b6",
   "metadata": {},
   "source": [
    "機械学習では「前処理＋モデル構築」を一括で扱える Pipeline を使うのがベストプラクティスです。"
   ]
  },
  {
   "cell_type": "code",
   "execution_count": 14,
   "id": "b1f7fd42-1ca0-4e82-916b-d9aa57198805",
   "metadata": {},
   "outputs": [],
   "source": [
    "from sklearn.pipeline import Pipeline\n",
    "from sklearn.preprocessing import StandardScaler\n",
    "from sklearn.compose import ColumnTransformer\n",
    "\n",
    "# 数値とカテゴリを分けて処理\n",
    "num_features = [\"SibSp\", \"Parch\", \"Age\", \"Fare\"]\n",
    "cat_features = [\"Pclass\", \"Sex\"]\n",
    "\n",
    "# 前処理設定\n",
    "from sklearn.impute import SimpleImputer\n",
    "from sklearn.preprocessing import OneHotEncoder\n",
    "\n",
    "numeric_transformer = Pipeline(steps=[\n",
    "    ('imputer', SimpleImputer(strategy='median')),\n",
    "    ('scaler', StandardScaler())\n",
    "])\n",
    "\n",
    "categorical_transformer = Pipeline(steps=[\n",
    "    ('imputer', SimpleImputer(strategy='most_frequent')),\n",
    "    ('onehot', OneHotEncoder(handle_unknown='ignore'))\n",
    "])\n",
    "\n",
    "preprocessor = ColumnTransformer(transformers=[\n",
    "    ('num', numeric_transformer, num_features),\n",
    "    ('cat', categorical_transformer, cat_features)\n",
    "])\n",
    "\n",
    "# 全体Pipeline（前処理＋モデル）\n",
    "clf = Pipeline(steps=[\n",
    "    ('preprocessor', preprocessor),\n",
    "    ('classifier', RandomForestClassifier(n_estimators=100, max_depth=5, random_state=1))\n",
    "])\n",
    "\n",
    "# 学習・予測\n",
    "clf.fit(train_data[num_features + cat_features], y)\n",
    "predictions = clf.predict(test_data[num_features + cat_features])"
   ]
  },
  {
   "cell_type": "markdown",
   "id": "46ac8633-5141-4f6e-85ed-c739e4e20196",
   "metadata": {},
   "source": [
    "Titanicデータでは、以下のように 欠損値処理が重要 になります。"
   ]
  },
  {
   "cell_type": "markdown",
   "id": "7b18a203-f534-4a8e-b2fc-9ca0e0e847d4",
   "metadata": {},
   "source": [
    "AgeやFareの欠損補完（前処理時に行う）"
   ]
  },
  {
   "cell_type": "code",
   "execution_count": 19,
   "id": "2697eb41-b0d5-4bd7-aa3b-0e010d252062",
   "metadata": {},
   "outputs": [],
   "source": [
    "train_data[\"Age\"] = train_data[\"Age\"].fillna(train_data[\"Age\"].median())\n",
    "test_data[\"Age\"] = test_data[\"Age\"].fillna(train_data[\"Age\"].median())\n",
    "test_data[\"Fare\"] = test_data[\"Fare\"].fillna(train_data[\"Fare\"].median())"
   ]
  },
  {
   "cell_type": "markdown",
   "id": "f60b7757-41c9-4562-9c06-95eabca0081c",
   "metadata": {},
   "source": [
    "欠損が多すぎて削除する選択もOK"
   ]
  },
  {
   "cell_type": "code",
   "execution_count": 17,
   "id": "5ebf0830-8023-4e6f-b950-ef86a0820a83",
   "metadata": {},
   "outputs": [],
   "source": [
    "train_data.drop(\"Cabin\", axis=1, inplace=True)\n",
    "test_data.drop(\"Cabin\", axis=1, inplace=True)"
   ]
  },
  {
   "cell_type": "markdown",
   "id": "dd44d69e-3625-4cfd-9ae3-bd3936e1baaf",
   "metadata": {},
   "source": [
    "Embarked（乗船港）の補完"
   ]
  },
  {
   "cell_type": "code",
   "execution_count": 18,
   "id": "92de35e0-d7de-4be4-bfa5-771ba5951eac",
   "metadata": {},
   "outputs": [],
   "source": [
    "train_data[\"Embarked\"] = train_data[\"Embarked\"].fillna(train_data[\"Embarked\"].mode()[0])\n",
    "test_data[\"Embarked\"] = test_data[\"Embarked\"].fillna(train_data[\"Embarked\"].mode()[0])"
   ]
  },
  {
   "cell_type": "markdown",
   "id": "8243c759-0506-4daa-abf5-de77a8cf9014",
   "metadata": {},
   "source": [
    "データの見方を少し変えるだけで、モデルの精度がグンと上がることがあります。よく使われる「隠れた特徴量（新しい列）」をいくつか紹介します👇"
   ]
  },
  {
   "cell_type": "markdown",
   "id": "0660899c-d1ec-4150-b67f-623f7989e8bb",
   "metadata": {},
   "source": [
    "1. FamilySize（家族の人数）"
   ]
  },
  {
   "cell_type": "code",
   "execution_count": 20,
   "id": "4cbaffb2-6ed6-4a69-8e6f-d5e994a825bd",
   "metadata": {},
   "outputs": [],
   "source": [
    "train_data['FamilySize'] = train_data['SibSp'] + train_data['Parch'] + 1\n",
    "test_data['FamilySize'] = test_data['SibSp'] + test_data['Parch'] + 1"
   ]
  },
  {
   "cell_type": "markdown",
   "id": "e7d7a7a3-ccc3-4015-814a-2cc4b79d98fb",
   "metadata": {},
   "source": [
    " 2. IsAlone（一人かどうか）"
   ]
  },
  {
   "cell_type": "code",
   "execution_count": 21,
   "id": "bf2411bc-d291-43d7-b4da-67c1cadd0b48",
   "metadata": {},
   "outputs": [],
   "source": [
    "train_data['IsAlone'] = (train_data['FamilySize'] == 1).astype(int)\n",
    "test_data['IsAlone'] = (test_data['FamilySize'] == 1).astype(int)"
   ]
  },
  {
   "cell_type": "markdown",
   "id": "1e977342-bb82-4cea-8b09-cfffce98794c",
   "metadata": {},
   "source": [
    "3. Title（名前から敬称を抽出）"
   ]
  },
  {
   "cell_type": "code",
   "execution_count": 26,
   "id": "60803ff3-50ee-4431-b8f1-286fc5b2eb46",
   "metadata": {},
   "outputs": [],
   "source": [
    "# 名前から敬称（Title）を抽出（例: Mr, Miss, Mrsなど）\n",
    "train_data['Title'] = train_data['Name'].str.extract(r' ([A-Za-z]+)\\.', expand=False)\n",
    "test_data['Title'] = test_data['Name'].str.extract(r' ([A-Za-z]+)\\.', expand=False)\n",
    "\n",
    "# レアなタイトルをまとめる\n",
    "rare_titles = ['Lady', 'Countess', 'Capt', 'Col', 'Don', 'Dr',\n",
    "               'Major', 'Rev', 'Sir', 'Jonkheer', 'Dona']\n",
    "train_data['Title'] = train_data['Title'].replace(rare_titles, 'Rare')\n",
    "test_data['Title'] = test_data['Title'].replace(rare_titles, 'Rare')\n",
    "\n",
    "# 一部の敬称を統一（表記ゆれを解消）\n",
    "title_mapping = {'Mlle': 'Miss', 'Ms': 'Miss', 'Mme': 'Mrs'}\n",
    "train_data['Title'] = train_data['Title'].replace(title_mapping)\n",
    "test_data['Title'] = test_data['Title'].replace(title_mapping)"
   ]
  },
  {
   "cell_type": "markdown",
   "id": "63c378d2-9710-442c-9f29-9ed7e67e057b",
   "metadata": {},
   "source": [
    "複数のモデルを組み合わせてさらに精度を上げましょう。"
   ]
  },
  {
   "cell_type": "markdown",
   "id": "9f72be1b-c96e-4669-983f-824d2ad2b1e5",
   "metadata": {},
   "source": [
    "VotingClassifier（複数モデルの多数決）"
   ]
  },
  {
   "cell_type": "code",
   "execution_count": 23,
   "id": "6b7e4ade-12a0-48a5-a38f-89a1ed4ae1bc",
   "metadata": {},
   "outputs": [
    {
     "name": "stdout",
     "output_type": "stream",
     "text": [
      "VotingClassifier Accuracy: 0.776536312849162\n"
     ]
    }
   ],
   "source": [
    "from sklearn.ensemble import VotingClassifier\n",
    "from sklearn.linear_model import LogisticRegression\n",
    "from sklearn.svm import SVC\n",
    "\n",
    "clf1 = LogisticRegression(max_iter=1000)\n",
    "clf2 = RandomForestClassifier(n_estimators=100, max_depth=5, random_state=1)\n",
    "clf3 = SVC(probability=True)\n",
    "\n",
    "voting_clf = VotingClassifier(estimators=[\n",
    "    ('lr', clf1), ('rf', clf2), ('svc', clf3)\n",
    "], voting='soft')\n",
    "\n",
    "voting_clf.fit(X_train, y_train)\n",
    "voting_preds = voting_clf.predict(X_val)\n",
    "acc = accuracy_score(y_val, voting_preds)\n",
    "print(\"VotingClassifier Accuracy:\", acc)\n"
   ]
  },
  {
   "cell_type": "markdown",
   "id": "e2c5ea2b-2da5-4364-be4d-749303269310",
   "metadata": {},
   "source": [
    " SelectKBest（統計的に重要な特徴量を選ぶ）"
   ]
  },
  {
   "cell_type": "code",
   "execution_count": 27,
   "id": "89d358c2-4379-49aa-971d-817db661615c",
   "metadata": {},
   "outputs": [
    {
     "name": "stdout",
     "output_type": "stream",
     "text": [
      "Selected features: ['Pclass', 'Age_bin', 'Fare_bin', 'Sex_female', 'Sex_male']\n"
     ]
    }
   ],
   "source": [
    "from sklearn.impute import SimpleImputer\n",
    "from sklearn.feature_selection import SelectKBest, f_classif\n",
    "\n",
    "# NaN補完（中央値で補完）\n",
    "imputer = SimpleImputer(strategy='median')\n",
    "X_filled = imputer.fit_transform(X)\n",
    "\n",
    "# 特徴量選択\n",
    "selector = SelectKBest(score_func=f_classif, k=5)\n",
    "X_new = selector.fit_transform(X_filled, y)\n",
    "\n",
    "# 選ばれた特徴量名を表示\n",
    "selected_features = X.columns[selector.get_support()]\n",
    "print(\"Selected features:\", list(selected_features))"
   ]
  },
  {
   "cell_type": "code",
   "execution_count": 28,
   "id": "043f7d3b-7f7f-496d-b3dd-7f7a0b6ea742",
   "metadata": {},
   "outputs": [
    {
     "name": "stdout",
     "output_type": "stream",
     "text": [
      "Your submission was successfully saved!\n"
     ]
    }
   ],
   "source": [
    "output = pd.DataFrame({'PassengerId': test_data.PassengerId, 'Survived': predictions})\n",
    "output.to_csv('submission.csv', index=False)\n",
    "print(\"Your submission was successfully saved!\")"
   ]
  },
  {
   "cell_type": "code",
   "execution_count": null,
   "id": "b5ea116a-0a30-4e24-a8b8-ac3b885e90e6",
   "metadata": {},
   "outputs": [],
   "source": []
  }
 ],
 "metadata": {
  "kernelspec": {
   "display_name": "Python 3 (ipykernel)",
   "language": "python",
   "name": "python3"
  },
  "language_info": {
   "codemirror_mode": {
    "name": "ipython",
    "version": 3
   },
   "file_extension": ".py",
   "mimetype": "text/x-python",
   "name": "python",
   "nbconvert_exporter": "python",
   "pygments_lexer": "ipython3",
   "version": "3.13.1"
  }
 },
 "nbformat": 4,
 "nbformat_minor": 5
}
